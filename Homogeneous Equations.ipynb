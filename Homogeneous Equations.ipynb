{
 "cells": [
  {
   "cell_type": "code",
   "execution_count": null,
   "metadata": {},
   "outputs": [],
   "source": [
    "#Tired of solving homogeneous equations. "
   ]
  },
  {
   "cell_type": "code",
   "execution_count": 1,
   "metadata": {},
   "outputs": [],
   "source": [
    "import math #Function For differential equation CASE computations \n",
    "from fractions import Fraction"
   ]
  },
  {
   "cell_type": "code",
   "execution_count": 2,
   "metadata": {},
   "outputs": [],
   "source": [
    "def Homogeneous():\n",
    "\n",
    "    print(''' To solve solve homogeneous linear equations \n",
    "          \n",
    "         1: If y1(x) and y2(x) are solutions then the linear combination\n",
    "          y = c1y1 + c2y2 is also a solution\n",
    "          where y1 & y2 are linearly independent \n",
    "          therefore y(x) = c1y1(x) + c2y2(x)\n",
    "          \n",
    "        2: To discover particular solutions to a second-order linear equation...\n",
    "           if the coefficients functions P, Q and R are constant functions \n",
    "           The equation has the form ay^2 + by^1 + cy = 0, a!=0\n",
    "           \n",
    "    ''')\n",
    "    \n",
    "    a = eval(input('Enter: Y double prime  coefficient: '))\n",
    "    b = eval(input('Enter: Y prime coefficient: '))\n",
    "    c = eval(input('Enter: Y coefficient: ')) \n",
    "    #print('\\n') #new line \"\\]n\"\n",
    "\n",
    "            \n",
    "    \n",
    "    if math.pow((b), 2) - 4*a*c > 0:\n",
    "        print(''' \n",
    "              y(x) = c1y1(x) + c2y2(x)\n",
    "              assume y =  e^rx\n",
    "              ar^2 + br + c = 0\n",
    "               r = quadratic equation\n",
    "               case 1: b^2 - 4ac > 0\n",
    "               y(x) = c1e^rx + c2e^rx\n",
    "        ''')\n",
    "        \n",
    "        \n",
    "        num1 = -b + math.sqrt(math.pow((b), 2) - 4*a*c)\n",
    "        num2 = -b - math.sqrt(math.pow((b), 2) - 4*a*c)\n",
    "        den  = 2*a\n",
    "        r1 = num1/den  \n",
    "        r2 = num2/den        \n",
    "        case1 = 'y(x) = C1e^'+str(r1)+'x + ' + 'C2e^'+str(r2)+'x'\n",
    "        print(case1)\n",
    "    elif math.pow((b), 2) - 4*a*c == 0:\n",
    "        print(''' \n",
    "              y(x) = c1y1(x) + c2y2(x)\n",
    "              assume y =  e^rx\n",
    "              ar^2 + br + c = 0\n",
    "               r = quadratic equation\n",
    "               case 2: b^2 - 4ac = 0\n",
    "               y(x) = c1e^rx + c2Xe^rx\n",
    "        ''')        \n",
    "        num1 = -b + math.sqrt(math.pow((b), 2) - 4*a*c)\n",
    "        num2 = -b - math.sqrt(math.pow((b), 2) - 4*a*c)\n",
    "        den  = 2*a\n",
    "        r1 = num1/den  \n",
    "        r2 = num2/den\n",
    "        case2 = 'y(x) = C1'+'e^'+str(r1)+'x + ' + 'C2'+'Xe^'+str(r2)+'x'\n",
    "        print(case2)\n",
    "    else:\n",
    "\n",
    "        print(''' \n",
    "              y(x) = c1y1(x) + c2y2(x)\n",
    "              assume y =  e^rx\n",
    "              ar^2 + br + c = 0\n",
    "               r = quadratic equation\n",
    "               case 3:  b^2 - 4ac < 0\n",
    "               y(x) = e^alpha(x)(C1Cos(beta(x) + C2Sin(beta(x)))\n",
    "        ''')\n",
    "        alpha = -(b)/2*a\n",
    "        beta = math.sqrt(-(math.pow((b), 2) - 4*a*c))/2*a\n",
    "        case3 = 'y(x) = e^'+str(alpha)+'x(C1Cos('+str(beta)+'x) + ' + 'C2Sin('+str(beta)+'x))'\n",
    "        print(case3)"
   ]
  },
  {
   "cell_type": "code",
   "execution_count": 3,
   "metadata": {},
   "outputs": [
    {
     "name": "stdout",
     "output_type": "stream",
     "text": [
      " test function on \n",
      "            y^2 : y double prime\n",
      "            y^1:  y prime\n",
      "            y:    y\n",
      "           1)  y^2 + y^1 - 6y = 0\n",
      "           2)  4y^2 + 12y^1 + 9y = 0\n",
      "           3) y^2 - 6y^1 + 13y = 0\n",
      "\n"
     ]
    }
   ],
   "source": [
    "print(''' test function on \n",
    "            y^2 : y double prime\n",
    "            y^1:  y prime\n",
    "            y:    y\n",
    "           1)  y^2 + y^1 - 6y = 0\n",
    "           2)  4y^2 + 12y^1 + 9y = 0\n",
    "           3) y^2 - 6y^1 + 13y = 0\n",
    "''')"
   ]
  },
  {
   "cell_type": "code",
   "execution_count": 4,
   "metadata": {},
   "outputs": [
    {
     "name": "stdout",
     "output_type": "stream",
     "text": [
      " To solve solve homogeneous linear equations \n",
      "          \n",
      "         1: If y1(x) and y2(x) are solutions then the linear combination\n",
      "          y = c1y1 + c2y2 is also a solution\n",
      "          where y1 & y2 are linearly independent \n",
      "          therefore y(x) = c1y1(x) + c2y2(x)\n",
      "          \n",
      "        2: To discover particular solutions to a second-order linear equation...\n",
      "           if the coefficients functions P, Q and R are constant functions \n",
      "           The equation has the form ay^2 + by^1 + cy = 0, a!=0\n",
      "           \n",
      "    \n",
      "Enter: Y double prime  coefficient: 1\n",
      "Enter: Y prime coefficient: -6\n",
      "Enter: Y coefficient: 13\n",
      " \n",
      "              y(x) = c1y1(x) + c2y2(x)\n",
      "              assume y =  e^rx\n",
      "              ar^2 + br + c = 0\n",
      "               r = quadratic equation\n",
      "               case 3:  b^2 - 4ac < 0\n",
      "               y(x) = e^alpha(x)(C1Cos(beta(x) + C2Sin(beta(x)))\n",
      "        \n",
      "y(x) = e^3.0x(C1Cos(2.0x) + C2Sin(2.0x))\n"
     ]
    }
   ],
   "source": [
    "Homogeneous()"
   ]
  },
  {
   "cell_type": "code",
   "execution_count": null,
   "metadata": {},
   "outputs": [],
   "source": [
    "def QuadraticEquation(a, b, c):\n",
    "    num1 = -b + math.sqrt(math.pow((b), 2) - 4*a*c)\n",
    "    num2 = -b - math.sqrt(math.pow((b), 2) - 4*a*c)\n",
    "    den  = 2*a\n",
    "    r1 = num1/den  \n",
    "    r2 = num2/den\n",
    "    print('r1: '+ str(r1))\n",
    "    print('r1:' + str(r2))\n",
    "    #return r1, r2"
   ]
  },
  {
   "cell_type": "code",
   "execution_count": null,
   "metadata": {},
   "outputs": [],
   "source": [
    "QuadraticEquation(1, 1, -6) "
   ]
  }
 ],
 "metadata": {
  "kernelspec": {
   "display_name": "Python 3",
   "language": "python",
   "name": "python3"
  },
  "language_info": {
   "codemirror_mode": {
    "name": "ipython",
    "version": 3
   },
   "file_extension": ".py",
   "mimetype": "text/x-python",
   "name": "python",
   "nbconvert_exporter": "python",
   "pygments_lexer": "ipython3",
   "version": "3.6.5"
  }
 },
 "nbformat": 4,
 "nbformat_minor": 2
}
